{
 "cells": [
  {
   "cell_type": "code",
   "execution_count": 1,
   "metadata": {},
   "outputs": [],
   "source": [
    "import numpy as np"
   ]
  },
  {
   "cell_type": "code",
   "execution_count": 3,
   "metadata": {},
   "outputs": [
    {
     "data": {
      "text/plain": [
       "array([0.79073971, 0.89967601, 0.76133883, 0.87028541, 0.08553862,\n",
       "       0.20434203, 0.89790032, 0.36946214, 0.65210576, 0.62294722,\n",
       "       0.79304251, 0.06073619, 0.29706946, 0.85069579, 0.90881473,\n",
       "       0.41208967, 0.26693911, 0.68190188, 0.70747314, 0.18331594,\n",
       "       0.982448  , 0.38107147, 0.8479542 , 0.65614425, 0.81787547,\n",
       "       0.58500332, 0.85231294, 0.3808724 , 0.54520898, 0.59385729,\n",
       "       0.74098319, 0.21758942, 0.5755734 , 0.06148162, 0.57927838,\n",
       "       0.42903666, 0.39912945, 0.36125319, 0.23196893, 0.5234223 ,\n",
       "       0.50612099, 0.7394182 , 0.16417365, 0.71978442, 0.35584217,\n",
       "       0.41012309, 0.44955207, 0.95409386, 0.72850781, 0.53683145,\n",
       "       0.4910446 , 0.7786951 , 0.67707634, 0.30444748, 0.64861779,\n",
       "       0.19421086, 0.31074236, 0.62882225, 0.5898321 , 0.08370564,\n",
       "       0.69537005, 0.62370706, 0.35425651, 0.02406865, 0.90724843,\n",
       "       0.95418545, 0.36817952, 0.84333747, 0.8940817 , 0.49836595,\n",
       "       0.42411603, 0.83486901, 0.47125359, 0.84837006, 0.44518039,\n",
       "       0.65316893, 0.45190984, 0.01694061, 0.27121412, 0.56097276,\n",
       "       0.41873787, 0.87920436, 0.06059783, 0.51933445, 0.56586733,\n",
       "       0.18743394, 0.60585362, 0.52505544, 0.25744715, 0.27221173,\n",
       "       0.15787738, 0.22834734, 0.63548364, 0.63872181, 0.31287807,\n",
       "       0.64666194, 0.21002015, 0.49441104, 0.5737542 , 0.54159568])"
      ]
     },
     "execution_count": 3,
     "metadata": {},
     "output_type": "execute_result"
    }
   ],
   "source": [
    "L = np.random.random(100)\n",
    "L"
   ]
  },
  {
   "cell_type": "markdown",
   "metadata": {},
   "source": [
    "## 1. 聚合操作(把一组值变为一个值)"
   ]
  },
  {
   "cell_type": "markdown",
   "metadata": {},
   "source": [
    "### 1.1. 基本运算"
   ]
  },
  {
   "cell_type": "code",
   "execution_count": 8,
   "metadata": {},
   "outputs": [
    {
     "data": {
      "text/plain": [
       "0.25087184264758167"
      ]
     },
     "execution_count": 8,
     "metadata": {},
     "output_type": "execute_result"
    }
   ],
   "source": [
    "np.sum(L)    #求和\n",
    "np.min(L)    #求最小值\n",
    "np.max(L)    #求最大值\n",
    "np.prod(L)   #求乘积\n",
    "np.mean(L)   #求平均值\n",
    "np.median(L) #求中位数\n",
    "np.var(L)    #求方差\n",
    "np.std(L)    #求标准差"
   ]
  },
  {
   "cell_type": "markdown",
   "metadata": {},
   "source": [
    "### 1.2. percentile() 取对应百分位的值"
   ]
  },
  {
   "cell_type": "code",
   "execution_count": 9,
   "metadata": {},
   "outputs": [
    {
     "name": "stdout",
     "output_type": "stream",
     "text": [
      "0.016940611679773565\n",
      "0.343911898942562\n",
      "0.5392135620982652\n",
      "0.7105509641385378\n",
      "0.9824480013373821\n"
     ]
    }
   ],
   "source": [
    "for percent in [0, 25, 50, 75, 100]:\n",
    "    print(np.percentile(L, q=percent)) "
   ]
  }
 ],
 "metadata": {
  "kernelspec": {
   "display_name": "Python 3",
   "language": "python",
   "name": "python3"
  },
  "language_info": {
   "codemirror_mode": {
    "name": "ipython",
    "version": 3
   },
   "file_extension": ".py",
   "mimetype": "text/x-python",
   "name": "python",
   "nbconvert_exporter": "python",
   "pygments_lexer": "ipython3",
   "version": "3.8.3"
  }
 },
 "nbformat": 4,
 "nbformat_minor": 4
}
